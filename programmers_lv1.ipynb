{
 "cells": [
  {
   "cell_type": "markdown",
   "id": "79d4a08a",
   "metadata": {},
   "source": [
    "# Lv1. 같은 숫자는 싫어\n",
    "\n",
    "arr = [1,1,3,3,0,1,1]\n",
    "answer = [1,3,0,1]"
   ]
  },
  {
   "cell_type": "code",
   "execution_count": 1,
   "id": "c1f046f7",
   "metadata": {},
   "outputs": [
    {
     "data": {
      "text/plain": [
       "[1, 3, 0, 1]"
      ]
     },
     "execution_count": 1,
     "metadata": {},
     "output_type": "execute_result"
    }
   ],
   "source": [
    "def solution(arr):\n",
    "    answer = []\n",
    "    a=arr[0]\n",
    "    answer.append(a)\n",
    "    for element in arr[1:]:\n",
    "        if element ==a:\n",
    "            continue\n",
    "        else:\n",
    "            answer.append(element)\n",
    "            a=element\n",
    "    return answer\n",
    "arr = [1,1,3,3,0,1,1]\n",
    "solution(arr)"
   ]
  },
  {
   "cell_type": "markdown",
   "id": "a06790f6",
   "metadata": {},
   "source": [
    "# Lv1. 성격 유형 검사하기"
   ]
  },
  {
   "cell_type": "code",
   "execution_count": 2,
   "id": "21922e68",
   "metadata": {},
   "outputs": [
    {
     "data": {
      "text/plain": [
       "'TCMA'"
      ]
     },
     "execution_count": 2,
     "metadata": {},
     "output_type": "execute_result"
    }
   ],
   "source": [
    "def solution(survey, choices):\n",
    "    result_dict = {\"R\":0,\"T\":0,\"C\":0, \"F\":0,\"J\":0,\"M\":0,\"A\":0, \"N\":0}\n",
    "    for i, element in enumerate(choices):\n",
    "        if element <4 :\n",
    "            choose_dict = survey[i][0]\n",
    "            score_result = 4-element\n",
    "        else:\n",
    "            choose_dict = survey[i][1]\n",
    "            score_result = element-4\n",
    "        result_dict[choose_dict]+=score_result\n",
    "    answer = \"\"        \n",
    "    if result_dict[\"R\"]>=result_dict[\"T\"]:\n",
    "        answer=answer + \"R\"\n",
    "    else:\n",
    "        answer=answer + \"T\"\n",
    "    if result_dict[\"C\"]>=result_dict[\"F\"]:\n",
    "        answer=answer + \"C\"\n",
    "    else:\n",
    "        answer=answer + \"F\"\n",
    "    if result_dict[\"J\"]>=result_dict[\"M\"]:\n",
    "        answer=answer + \"J\"\n",
    "    else:\n",
    "        answer=answer + \"M\"\n",
    "    if result_dict[\"A\"]>=result_dict[\"N\"]:\n",
    "        answer=answer + \"A\"\n",
    "    else:\n",
    "        answer=answer + \"N\"\n",
    "    return answer\n",
    "\n",
    "survey = [\"AN\", \"CF\", \"MJ\", \"RT\", \"NA\"] \n",
    "choices =  [5, 3, 2, 7, 5] \n",
    "# result = \"TCMA\"\n",
    "solution(survey, choices)\n",
    "        \n",
    "            \n",
    "            "
   ]
  },
  {
   "cell_type": "markdown",
   "id": "c9135c05",
   "metadata": {},
   "source": [
    "# Lv1. 신고 결과 받기"
   ]
  },
  {
   "cell_type": "code",
   "execution_count": 5,
   "id": "67df6126",
   "metadata": {},
   "outputs": [
    {
     "data": {
      "text/plain": [
       "[0, 0]"
      ]
     },
     "execution_count": 5,
     "metadata": {},
     "output_type": "execute_result"
    }
   ],
   "source": [
    "# id_list = [\"muzi\", \"frodo\", \"apeach\", \"neo\"]\n",
    "id_list = [\"con\", \"ryan\"]\n",
    "\n",
    "# report = [\"muzi frodo\",\"apeach frodo\",\"frodo neo\",\"muzi neo\",\"apeach muzi\"]\n",
    "report = [\"ryan con\", \"ryan con\", \"ryan con\", \"ryan con\"]\n",
    "# k = 2\n",
    "k = 3\n",
    "# result = [2,1,1,0]\n",
    "\n",
    "\n",
    "def solution(id_list, report, k):\n",
    "    attack_result={}\n",
    "    block_result = {}\n",
    "    answer = []\n",
    "    for id_ in id_list:\n",
    "        attack_result[id_]=[]\n",
    "        block_result[id_] =[]\n",
    "    for element in report:\n",
    "        split_result=element.split(\" \")\n",
    "        if split_result[1] not in attack_result[split_result[0]]:\n",
    "            attack_result[split_result[0]].append(split_result[1])\n",
    "        if split_result[0] not in block_result[split_result[1]]:\n",
    "            block_result[split_result[1]].append(split_result[0])\n",
    "        \n",
    "    for result in attack_result.items():\n",
    "        sucess_attack_score=0\n",
    "        for block_id in result[1]:\n",
    "            if k<= len(block_result[block_id]):\n",
    "                sucess_attack_score +=1\n",
    "        answer.append(sucess_attack_score)\n",
    "    return answer\n",
    "solution(id_list, report, k)"
   ]
  },
  {
   "cell_type": "code",
   "execution_count": null,
   "id": "dcab8239",
   "metadata": {},
   "outputs": [],
   "source": []
  }
 ],
 "metadata": {
  "kernelspec": {
   "display_name": "Python 3.10.4 ('programmers')",
   "language": "python",
   "name": "python3"
  },
  "language_info": {
   "codemirror_mode": {
    "name": "ipython",
    "version": 3
   },
   "file_extension": ".py",
   "mimetype": "text/x-python",
   "name": "python",
   "nbconvert_exporter": "python",
   "pygments_lexer": "ipython3",
   "version": "3.10.4"
  },
  "vscode": {
   "interpreter": {
    "hash": "f5c6be8d3bf4eb8322151bc6c26f25e1e72a38e24d588becc9b13732b1aedf5f"
   }
  }
 },
 "nbformat": 4,
 "nbformat_minor": 5
}
