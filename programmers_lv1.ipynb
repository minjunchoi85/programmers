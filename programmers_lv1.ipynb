{
 "cells": [
  {
   "cell_type": "markdown",
   "id": "9dee94ac",
   "metadata": {},
   "source": [
    "# Lv1. 나머지가 1이 되는 수 찾기"
   ]
  },
  {
   "cell_type": "code",
   "execution_count": 10,
   "id": "ee7ace52",
   "metadata": {},
   "outputs": [
    {
     "data": {
      "text/plain": [
       "11"
      ]
     },
     "execution_count": 10,
     "metadata": {},
     "output_type": "execute_result"
    }
   ],
   "source": [
    "# n=10 # result 3\n",
    "n=12 # result 11\n",
    "\n",
    "def solution(n):\n",
    "    for i in range(2, n):\n",
    "        if (n-1)%i==0:\n",
    "            break\n",
    "    answer = i\n",
    "    return answer\n",
    "solution(n)"
   ]
  },
  {
   "cell_type": "markdown",
   "id": "4116aca9",
   "metadata": {},
   "source": [
    "# Lv1. 최소직사각형"
   ]
  },
  {
   "cell_type": "code",
   "execution_count": 54,
   "id": "9a7552de",
   "metadata": {},
   "outputs": [
    {
     "data": {
      "text/plain": [
       "133"
      ]
     },
     "execution_count": 54,
     "metadata": {},
     "output_type": "execute_result"
    }
   ],
   "source": [
    "# sizes = [[60, 50], [30, 70], [60, 30], [80, 40]] # answer : 80*50=4000\n",
    "# sizes = [[10, 7], [12, 3], [8, 15], [14, 7], [5, 15]] # answer : 8*15=120\n",
    "sizes = [[14, 4], [19, 6], [6, 16], [18, 7], [7, 11]] # answer : 19*7=133\n",
    "def solution(sizes):\n",
    "    wide_value = []\n",
    "    high_value = []\n",
    "    index_list_wide = []\n",
    "    index_list_high = []\n",
    "    for i, element in enumerate(sizes):\n",
    "        wide_value.append(element[0])\n",
    "        high_value.append(element[1])\n",
    "    first_value=max(max(wide_value),max(high_value))\n",
    "    if first_value in wide_value:\n",
    "        index_output=wide_value.index(first_value)\n",
    "        index_output=list(filter(lambda x: wide_value[x] == first_value, range(len(wide_value))))\n",
    "        second_maximum_value=0\n",
    "        for i in index_output:\n",
    "            if sizes[i][1]>second_maximum_value:\n",
    "                second_maximum_value=sizes[i][1]\n",
    "        for element in sizes:\n",
    "            w = element[0]\n",
    "            h = element[1]\n",
    "            if w>second_maximum_value and h>second_maximum_value:\n",
    "                second_maximum_value = min(w,h)\n",
    "    else:\n",
    "        index_output=high_value.index(first_value)\n",
    "        index_output=list(filter(lambda x: high_value[x] == first_value, range(len(high_value))))\n",
    "        second_maximum_value=0\n",
    "        for i in index_output:\n",
    "            if sizes[i][0]>second_maximum_value:\n",
    "                second_maximum_value=sizes[i][0]\n",
    "        for element in sizes:\n",
    "            w = element[0]\n",
    "            h = element[1]\n",
    "            if w>second_maximum_value and h>second_maximum_value:\n",
    "                second_maximum_value = min(w,h)\n",
    "    answer=first_value* second_maximum_value\n",
    "    return answer\n",
    "\n",
    "solution(sizes)\n"
   ]
  },
  {
   "cell_type": "code",
   "execution_count": null,
   "id": "0e031b98",
   "metadata": {},
   "outputs": [],
   "source": []
  },
  {
   "cell_type": "code",
   "execution_count": 14,
   "id": "3f9bd887",
   "metadata": {},
   "outputs": [
    {
     "name": "stdout",
     "output_type": "stream",
     "text": [
      "60 50 3.1622776601683795\n",
      "60 70 10.862780491200215\n",
      "60 30 5.477225575051661\n",
      "60 40 4.47213595499958\n",
      "**********\n",
      "30 50 6.324555320336759\n",
      "30 70 9.16515138991168\n",
      "30 30 7.745966692414834\n",
      "30 40 7.3484692283495345\n",
      "**********\n",
      "60 50 3.1622776601683795\n",
      "60 70 10.862780491200215\n",
      "60 30 5.477225575051661\n",
      "60 40 4.47213595499958\n",
      "**********\n",
      "80 50 10.099504938362077\n",
      "80 70 5.0990195135927845\n",
      "80 30 10.677078252031311\n",
      "80 40 10.954451150103322\n",
      "**********\n"
     ]
    },
    {
     "data": {
      "text/plain": [
       "0"
      ]
     },
     "execution_count": 14,
     "metadata": {},
     "output_type": "execute_result"
    }
   ],
   "source": [
    "import math\n",
    "sizes = [[60, 50], [30, 70], [60, 30], [80, 40]] # answer : 80*50=4000\n",
    "# sizes = [[10, 7], [12, 3], [8, 15], [14, 7], [5, 15]] # answer : 8*15=120\n",
    "# sizes = [[14, 4], [19, 6], [6, 16], [18, 7], [7, 11]] # answer : 19*7=133\n",
    "\n",
    "def solution(sizes):\n",
    "    wide_value = []\n",
    "    high_value = []\n",
    "    max_value = 0\n",
    "    for element1 in sizes:\n",
    "        a = element1[0]\n",
    "        for element2 in sizes:\n",
    "            result=math.sqrt(a^2+element2[1]^2)\n",
    "            print(a, element2[1], result)\n",
    "            if max_value<result:\n",
    "                max_value=result\n",
    "#                 print(a, element2[1])\n",
    "        print(\"*\"*10)\n",
    "#     print(wide_value)\n",
    "#     print(high_value)\n",
    "    \n",
    "    answer=0\n",
    "    return answer\n",
    "\n",
    "solution(sizes)\n"
   ]
  },
  {
   "cell_type": "markdown",
   "id": "79d4a08a",
   "metadata": {},
   "source": [
    "# Lv1. 같은 숫자는 싫어\n",
    "\n",
    "arr = [1,1,3,3,0,1,1]\n",
    "answer = [1,3,0,1]"
   ]
  },
  {
   "cell_type": "code",
   "execution_count": 1,
   "id": "c1f046f7",
   "metadata": {},
   "outputs": [
    {
     "data": {
      "text/plain": [
       "[1, 3, 0, 1]"
      ]
     },
     "execution_count": 1,
     "metadata": {},
     "output_type": "execute_result"
    }
   ],
   "source": [
    "def solution(arr):\n",
    "    answer = []\n",
    "    a=arr[0]\n",
    "    answer.append(a)\n",
    "    for element in arr[1:]:\n",
    "        if element ==a:\n",
    "            continue\n",
    "        else:\n",
    "            answer.append(element)\n",
    "            a=element\n",
    "    return answer\n",
    "arr = [1,1,3,3,0,1,1]\n",
    "solution(arr)"
   ]
  },
  {
   "cell_type": "markdown",
   "id": "a06790f6",
   "metadata": {},
   "source": [
    "# Lv1. 성격 유형 검사하기"
   ]
  },
  {
   "cell_type": "code",
   "execution_count": 2,
   "id": "21922e68",
   "metadata": {},
   "outputs": [
    {
     "data": {
      "text/plain": [
       "'TCMA'"
      ]
     },
     "execution_count": 2,
     "metadata": {},
     "output_type": "execute_result"
    }
   ],
   "source": [
    "def solution(survey, choices):\n",
    "    result_dict = {\"R\":0,\"T\":0,\"C\":0, \"F\":0,\"J\":0,\"M\":0,\"A\":0, \"N\":0}\n",
    "    for i, element in enumerate(choices):\n",
    "        if element <4 :\n",
    "            choose_dict = survey[i][0]\n",
    "            score_result = 4-element\n",
    "        else:\n",
    "            choose_dict = survey[i][1]\n",
    "            score_result = element-4\n",
    "        result_dict[choose_dict]+=score_result\n",
    "    answer = \"\"        \n",
    "    if result_dict[\"R\"]>=result_dict[\"T\"]:\n",
    "        answer=answer + \"R\"\n",
    "    else:\n",
    "        answer=answer + \"T\"\n",
    "    if result_dict[\"C\"]>=result_dict[\"F\"]:\n",
    "        answer=answer + \"C\"\n",
    "    else:\n",
    "        answer=answer + \"F\"\n",
    "    if result_dict[\"J\"]>=result_dict[\"M\"]:\n",
    "        answer=answer + \"J\"\n",
    "    else:\n",
    "        answer=answer + \"M\"\n",
    "    if result_dict[\"A\"]>=result_dict[\"N\"]:\n",
    "        answer=answer + \"A\"\n",
    "    else:\n",
    "        answer=answer + \"N\"\n",
    "    return answer\n",
    "\n",
    "survey = [\"AN\", \"CF\", \"MJ\", \"RT\", \"NA\"] \n",
    "choices =  [5, 3, 2, 7, 5] \n",
    "# result = \"TCMA\"\n",
    "solution(survey, choices)\n",
    "        \n",
    "            \n",
    "            "
   ]
  },
  {
   "cell_type": "markdown",
   "id": "c9135c05",
   "metadata": {},
   "source": [
    "# Lv1. 신고 결과 받기"
   ]
  },
  {
   "cell_type": "code",
   "execution_count": 5,
   "id": "67df6126",
   "metadata": {},
   "outputs": [
    {
     "data": {
      "text/plain": [
       "[0, 0]"
      ]
     },
     "execution_count": 5,
     "metadata": {},
     "output_type": "execute_result"
    }
   ],
   "source": [
    "# id_list = [\"muzi\", \"frodo\", \"apeach\", \"neo\"]\n",
    "id_list = [\"con\", \"ryan\"]\n",
    "\n",
    "# report = [\"muzi frodo\",\"apeach frodo\",\"frodo neo\",\"muzi neo\",\"apeach muzi\"]\n",
    "report = [\"ryan con\", \"ryan con\", \"ryan con\", \"ryan con\"]\n",
    "# k = 2\n",
    "k = 3\n",
    "# result = [2,1,1,0]\n",
    "\n",
    "\n",
    "def solution(id_list, report, k):\n",
    "    attack_result={}\n",
    "    block_result = {}\n",
    "    answer = []\n",
    "    for id_ in id_list:\n",
    "        attack_result[id_]=[]\n",
    "        block_result[id_] =[]\n",
    "    for element in report:\n",
    "        split_result=element.split(\" \")\n",
    "        if split_result[1] not in attack_result[split_result[0]]:\n",
    "            attack_result[split_result[0]].append(split_result[1])\n",
    "        if split_result[0] not in block_result[split_result[1]]:\n",
    "            block_result[split_result[1]].append(split_result[0])\n",
    "        \n",
    "    for result in attack_result.items():\n",
    "        sucess_attack_score=0\n",
    "        for block_id in result[1]:\n",
    "            if k<= len(block_result[block_id]):\n",
    "                sucess_attack_score +=1\n",
    "        answer.append(sucess_attack_score)\n",
    "    return answer\n",
    "solution(id_list, report, k)"
   ]
  },
  {
   "cell_type": "code",
   "execution_count": null,
   "id": "dcab8239",
   "metadata": {},
   "outputs": [],
   "source": []
  }
 ],
 "metadata": {
  "kernelspec": {
   "display_name": "Python 3 (ipykernel)",
   "language": "python",
   "name": "python3"
  },
  "language_info": {
   "codemirror_mode": {
    "name": "ipython",
    "version": 3
   },
   "file_extension": ".py",
   "mimetype": "text/x-python",
   "name": "python",
   "nbconvert_exporter": "python",
   "pygments_lexer": "ipython3",
   "version": "3.10.4"
  },
  "vscode": {
   "interpreter": {
    "hash": "f5c6be8d3bf4eb8322151bc6c26f25e1e72a38e24d588becc9b13732b1aedf5f"
   }
  }
 },
 "nbformat": 4,
 "nbformat_minor": 5
}
